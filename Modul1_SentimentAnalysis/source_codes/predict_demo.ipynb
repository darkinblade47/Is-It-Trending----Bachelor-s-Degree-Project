{
 "cells": [
  {
   "cell_type": "code",
   "execution_count": 39,
   "metadata": {},
   "outputs": [],
   "source": [
    "import os\n",
    "import torch\n",
    "import gensim\n",
    "import numpy as np\n",
    "from tqdm import tqdm\n",
    "from LSTMs import BiLSTM_W2v\n",
    "from nltk import word_tokenize\n",
    "\n",
    "class SentimentPredict():\n",
    "    def __init__(self) -> None:\n",
    "        self.device = torch.device('cuda' if torch.cuda.is_available() else 'cpu')\n",
    "        self.w2vModel = gensim.models.Word2Vec.load(\"..\\word2vec_models/w2v_byme.model\")\n",
    "        self.model = BiLSTM_W2v(self.w2vModel.wv.vectors.shape[1])\n",
    "        self.model.load_state_dict(torch.load(\"..\\saves\\model306_9201\\checkpoint_acc920120.pt\"))\n",
    "    \n",
    "    def pad_record(self, record):\n",
    "        self.mean = len(record)\n",
    "        if len(record) < self.mean:\n",
    "            diff = self.mean - len(record)\n",
    "            record = np.pad(record,((0,diff),(0,0)), mode='constant')\n",
    "        else:\n",
    "            record = record[:self.mean]\n",
    "        return record\n",
    "\n",
    "    def tokenize_and_encode(self, reviews):\n",
    "        tokenized_texts = [word_tokenize(text, language=\"english\") for text in reviews]\n",
    "\n",
    "        embeddings = []\n",
    "        for tokens in tokenized_texts:\n",
    "            text_embeddings = []\n",
    "            for token in tokens:\n",
    "                if token.lower() in self.w2vModel.wv:\n",
    "                    text_embeddings.append(self.w2vModel.wv[token.lower()])\n",
    "            embeddings.append(text_embeddings)\n",
    "        return embeddings\n",
    "    \n",
    "    def padding(self, encoded_reviews):\n",
    "        processed_data = []\n",
    "        for i in range(len(encoded_reviews)):\n",
    "            if len(encoded_reviews[i]) > 0:\n",
    "                processed_data.append(np.array(self.pad_record(encoded_reviews[i])))\n",
    "\n",
    "        return processed_data\n",
    "    \n",
    "    def preprocess_data_for_predict(self, reviews):\n",
    "        encoded_reviews = self.tokenize_and_encode(reviews)\n",
    "        final_data = self.padding(encoded_reviews)\n",
    "        for i in range(len(final_data)):\n",
    "            data = final_data[i]\n",
    "            final_data[i] = torch.from_numpy(data.reshape(1, data.shape[0], data.shape[1]))\n",
    "\n",
    "        return final_data\n",
    "    \n",
    "    def predict(self, text_to_predict):\n",
    "        data_to_be_evaluated = self.preprocess_data_for_predict(text_to_predict)\n",
    "                \n",
    "        self.model.to(self.device)\n",
    "        self.model.eval()\n",
    "        with torch.no_grad():\n",
    "            for idx, batch in enumerate(data_to_be_evaluated):\n",
    "                batch_data = batch.to(self.device)\n",
    "                raw_output = self.model(batch_data)                \n",
    "                batch_predictions = torch.argmax(raw_output, dim=1)\n",
    "                if batch_predictions == 0:\n",
    "                    print(\"Negativ.\")\n",
    "                else:\n",
    "                    print(\"Pozitiv.\")\n",
    "\n"
   ]
  },
  {
   "cell_type": "code",
   "execution_count": 40,
   "metadata": {},
   "outputs": [],
   "source": [
    "predicter_obj = SentimentPredict()"
   ]
  },
  {
   "cell_type": "code",
   "execution_count": 61,
   "metadata": {},
   "outputs": [
    {
     "name": "stdout",
     "output_type": "stream",
     "text": [
      "Pozitiv.\n"
     ]
    }
   ],
   "source": [
    "text_to_predict = \"Acesta este un modul de predictie bun\"\n",
    "predicter_obj.predict([text_to_predict])"
   ]
  }
 ],
 "metadata": {
  "kernelspec": {
   "display_name": "pytorchus",
   "language": "python",
   "name": "python3"
  },
  "language_info": {
   "codemirror_mode": {
    "name": "ipython",
    "version": 3
   },
   "file_extension": ".py",
   "mimetype": "text/x-python",
   "name": "python",
   "nbconvert_exporter": "python",
   "pygments_lexer": "ipython3",
   "version": "3.9.16"
  },
  "orig_nbformat": 4
 },
 "nbformat": 4,
 "nbformat_minor": 2
}
